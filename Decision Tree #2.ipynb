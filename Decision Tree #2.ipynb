{
 "cells": [
  {
   "cell_type": "code",
   "execution_count": 312,
   "id": "caroline-contrary",
   "metadata": {},
   "outputs": [
    {
     "name": "stdout",
     "output_type": "stream",
     "text": [
      "argon2-cffi==18.3.0\r\n",
      "attrs==20.3.0\r\n",
      "backcall==0.2.0\r\n",
      "bleach==3.2.1\r\n",
      "blinker==1.4\r\n",
      "certifi==2020.6.20\r\n",
      "chardet==4.0.0\r\n",
      "click==7.1.2\r\n",
      "colorama==0.4.4\r\n",
      "command-not-found==0.3\r\n",
      "cryptography==3.3.2\r\n",
      "cupshelpers==1.0\r\n",
      "dbus-python==1.2.16\r\n",
      "decorator==4.4.2\r\n",
      "defer==1.0.6\r\n",
      "defusedxml==0.6.0\r\n",
      "distro==1.5.0\r\n",
      "distro-info==1.0\r\n",
      "entrypoints==0.3\r\n",
      "html5lib==1.1\r\n",
      "httplib2==0.18.1\r\n",
      "idna==2.10\r\n",
      "importlib-metadata==1.6.0\r\n",
      "ipykernel==5.4.3\r\n",
      "ipython==7.20.0\r\n",
      "ipython-genutils==0.2.0\r\n",
      "ipywidgets==6.0.0\r\n",
      "jedi==0.18.0\r\n",
      "jeepney==0.6.0\r\n",
      "Jinja2==2.11.2\r\n",
      "joblib==1.0.1\r\n",
      "jsonschema==3.2.0\r\n",
      "jupyter-client==6.1.11\r\n",
      "jupyter-core==4.7.1\r\n",
      "keyring==22.2.0\r\n",
      "language-selector==0.1\r\n",
      "launchpadlib==1.10.13\r\n",
      "lazr.restfulclient==0.14.2\r\n",
      "lazr.uri==1.0.5\r\n",
      "louis==3.16.0\r\n",
      "macaroonbakery==1.3.1\r\n",
      "MarkupSafe==1.1.1\r\n",
      "mistune==0.8.4\r\n",
      "more-itertools==4.2.0\r\n",
      "nbconvert==5.6.1\r\n",
      "nbformat==5.1.2\r\n",
      "netifaces==0.10.9\r\n",
      "notebook==6.2.0\r\n",
      "numpy==1.21.2\r\n",
      "oauthlib==3.1.0\r\n",
      "packaging==20.9\r\n",
      "pandas==1.3.2\r\n",
      "pandocfilters==1.4.3\r\n",
      "parso==0.8.1\r\n",
      "pexpect==4.8.0\r\n",
      "pickleshare==0.7.5\r\n",
      "prometheus-client==0.9.0\r\n",
      "prompt-toolkit==3.0.14\r\n",
      "protobuf==3.12.4\r\n",
      "psutil==5.8.0\r\n",
      "pycairo==1.16.2\r\n",
      "pycups==2.0.1\r\n",
      "Pygments==2.7.1\r\n",
      "PyGObject==3.38.0\r\n",
      "PyJWT==1.7.1\r\n",
      "pymacaroons==0.13.0\r\n",
      "PyNaCl==1.4.0\r\n",
      "pyparsing==2.4.7\r\n",
      "pyRFC3339==1.1\r\n",
      "pyrsistent==0.15.5\r\n",
      "python-apt===2.2.0-ubuntu0.21.04.1\r\n",
      "python-dateutil==2.8.1\r\n",
      "python-debian==0.1.39\r\n",
      "python-xlib==0.29\r\n",
      "pytz==2021.1\r\n",
      "pyudev==0.22.0\r\n",
      "PyYAML==5.3.1\r\n",
      "pyzmq==20.0.0\r\n",
      "requests==2.25.1\r\n",
      "scikit-learn==0.24.2\r\n",
      "scipy==1.7.1\r\n",
      "SecretStorage==3.3.1\r\n",
      "Send2Trash==1.6.0b1\r\n",
      "simplejson==3.17.2\r\n",
      "six==1.15.0\r\n",
      "ssh-import-id==5.11\r\n",
      "systemd-python==234\r\n",
      "terminado==0.9.2\r\n",
      "testpath==0.4.4\r\n",
      "threadpoolctl==2.2.0\r\n",
      "tornado==6.1\r\n",
      "traitlets==5.0.5\r\n",
      "ubuntu-advantage-tools==27.2\r\n",
      "ubuntu-drivers-common==0.0.0\r\n",
      "ufw==0.36\r\n",
      "unattended-upgrades==0.1\r\n",
      "urllib3==1.26.2\r\n",
      "wadllib==1.3.5\r\n",
      "wcwidth==0.1.9\r\n",
      "webencodings==0.5.1\r\n",
      "widgetsnbextension==2.0.0\r\n",
      "xkit==0.0.0\r\n",
      "zipp==1.0.0\r\n"
     ]
    }
   ],
   "source": [
    "!pip freeze\n"
   ]
  },
  {
   "cell_type": "code",
   "execution_count": 313,
   "id": "union-operations",
   "metadata": {},
   "outputs": [
    {
     "name": "stdout",
     "output_type": "stream",
     "text": [
      "Requirement already satisfied: pandas in /home/inaya/.local/lib/python3.9/site-packages (1.3.2)\n",
      "Requirement already satisfied: python-dateutil>=2.7.3 in /usr/lib/python3/dist-packages (from pandas) (2.8.1)\n",
      "Requirement already satisfied: pytz>=2017.3 in /usr/lib/python3/dist-packages (from pandas) (2021.1)\n",
      "Requirement already satisfied: numpy>=1.17.3 in /home/inaya/.local/lib/python3.9/site-packages (from pandas) (1.21.2)\n",
      "Note: you may need to restart the kernel to use updated packages.\n"
     ]
    }
   ],
   "source": [
    "pip install pandas\n"
   ]
  },
  {
   "cell_type": "code",
   "execution_count": 314,
   "id": "detailed-seventh",
   "metadata": {},
   "outputs": [
    {
     "data": {
      "text/plain": [
       "'/home/inaya/Downloads'"
      ]
     },
     "execution_count": 314,
     "metadata": {},
     "output_type": "execute_result"
    }
   ],
   "source": [
    "import os\n",
    "os.getcwd()\n",
    "\n"
   ]
  },
  {
   "cell_type": "code",
   "execution_count": 315,
   "id": "satellite-brown",
   "metadata": {},
   "outputs": [
    {
     "name": "stdout",
     "output_type": "stream",
     "text": [
      "[Errno 2] No such file or directory: 'Downloads'\n",
      "/home/inaya/Downloads\n"
     ]
    }
   ],
   "source": [
    "cd Downloads"
   ]
  },
  {
   "cell_type": "code",
   "execution_count": 316,
   "id": "faced-atmosphere",
   "metadata": {
    "scrolled": true
   },
   "outputs": [
    {
     "data": {
      "text/html": [
       "<div>\n",
       "<style scoped>\n",
       "    .dataframe tbody tr th:only-of-type {\n",
       "        vertical-align: middle;\n",
       "    }\n",
       "\n",
       "    .dataframe tbody tr th {\n",
       "        vertical-align: top;\n",
       "    }\n",
       "\n",
       "    .dataframe thead th {\n",
       "        text-align: right;\n",
       "    }\n",
       "</style>\n",
       "<table border=\"1\" class=\"dataframe\">\n",
       "  <thead>\n",
       "    <tr style=\"text-align: right;\">\n",
       "      <th></th>\n",
       "      <th>PassengerId</th>\n",
       "      <th>Survived</th>\n",
       "      <th>Pclass</th>\n",
       "      <th>Name</th>\n",
       "      <th>Sex</th>\n",
       "      <th>Age</th>\n",
       "      <th>SibSp</th>\n",
       "      <th>Parch</th>\n",
       "      <th>Ticket</th>\n",
       "      <th>Fare</th>\n",
       "      <th>Cabin</th>\n",
       "      <th>Embarked</th>\n",
       "    </tr>\n",
       "  </thead>\n",
       "  <tbody>\n",
       "    <tr>\n",
       "      <th>0</th>\n",
       "      <td>1</td>\n",
       "      <td>0</td>\n",
       "      <td>3</td>\n",
       "      <td>Braund, Mr. Owen Harris</td>\n",
       "      <td>male</td>\n",
       "      <td>22.0</td>\n",
       "      <td>1</td>\n",
       "      <td>0</td>\n",
       "      <td>A/5 21171</td>\n",
       "      <td>7.2500</td>\n",
       "      <td>NaN</td>\n",
       "      <td>S</td>\n",
       "    </tr>\n",
       "    <tr>\n",
       "      <th>1</th>\n",
       "      <td>2</td>\n",
       "      <td>1</td>\n",
       "      <td>1</td>\n",
       "      <td>Cumings, Mrs. John Bradley (Florence Briggs Th...</td>\n",
       "      <td>female</td>\n",
       "      <td>38.0</td>\n",
       "      <td>1</td>\n",
       "      <td>0</td>\n",
       "      <td>PC 17599</td>\n",
       "      <td>71.2833</td>\n",
       "      <td>C85</td>\n",
       "      <td>C</td>\n",
       "    </tr>\n",
       "    <tr>\n",
       "      <th>2</th>\n",
       "      <td>3</td>\n",
       "      <td>1</td>\n",
       "      <td>3</td>\n",
       "      <td>Heikkinen, Miss. Laina</td>\n",
       "      <td>female</td>\n",
       "      <td>26.0</td>\n",
       "      <td>0</td>\n",
       "      <td>0</td>\n",
       "      <td>STON/O2. 3101282</td>\n",
       "      <td>7.9250</td>\n",
       "      <td>NaN</td>\n",
       "      <td>S</td>\n",
       "    </tr>\n",
       "    <tr>\n",
       "      <th>3</th>\n",
       "      <td>4</td>\n",
       "      <td>1</td>\n",
       "      <td>1</td>\n",
       "      <td>Futrelle, Mrs. Jacques Heath (Lily May Peel)</td>\n",
       "      <td>female</td>\n",
       "      <td>35.0</td>\n",
       "      <td>1</td>\n",
       "      <td>0</td>\n",
       "      <td>113803</td>\n",
       "      <td>53.1000</td>\n",
       "      <td>C123</td>\n",
       "      <td>S</td>\n",
       "    </tr>\n",
       "    <tr>\n",
       "      <th>4</th>\n",
       "      <td>5</td>\n",
       "      <td>0</td>\n",
       "      <td>3</td>\n",
       "      <td>Allen, Mr. William Henry</td>\n",
       "      <td>male</td>\n",
       "      <td>35.0</td>\n",
       "      <td>0</td>\n",
       "      <td>0</td>\n",
       "      <td>373450</td>\n",
       "      <td>8.0500</td>\n",
       "      <td>NaN</td>\n",
       "      <td>S</td>\n",
       "    </tr>\n",
       "  </tbody>\n",
       "</table>\n",
       "</div>"
      ],
      "text/plain": [
       "   PassengerId  Survived  Pclass  \\\n",
       "0            1         0       3   \n",
       "1            2         1       1   \n",
       "2            3         1       3   \n",
       "3            4         1       1   \n",
       "4            5         0       3   \n",
       "\n",
       "                                                Name     Sex   Age  SibSp  \\\n",
       "0                            Braund, Mr. Owen Harris    male  22.0      1   \n",
       "1  Cumings, Mrs. John Bradley (Florence Briggs Th...  female  38.0      1   \n",
       "2                             Heikkinen, Miss. Laina  female  26.0      0   \n",
       "3       Futrelle, Mrs. Jacques Heath (Lily May Peel)  female  35.0      1   \n",
       "4                           Allen, Mr. William Henry    male  35.0      0   \n",
       "\n",
       "   Parch            Ticket     Fare Cabin Embarked  \n",
       "0      0         A/5 21171   7.2500   NaN        S  \n",
       "1      0          PC 17599  71.2833   C85        C  \n",
       "2      0  STON/O2. 3101282   7.9250   NaN        S  \n",
       "3      0            113803  53.1000  C123        S  \n",
       "4      0            373450   8.0500   NaN        S  "
      ]
     },
     "execution_count": 316,
     "metadata": {},
     "output_type": "execute_result"
    }
   ],
   "source": [
    "import pandas as pd\n",
    "df = pd.read_csv(\"titanic.csv\")\n",
    "df.head()"
   ]
  },
  {
   "cell_type": "code",
   "execution_count": 317,
   "id": "painted-status",
   "metadata": {
    "scrolled": true
   },
   "outputs": [],
   "source": [
    "df.drop(['PassengerId','Name','SibSp','Parch','Ticket','Cabin','Embarked'],axis='columns',inplace=True)\n"
   ]
  },
  {
   "cell_type": "code",
   "execution_count": 318,
   "id": "chemical-politics",
   "metadata": {},
   "outputs": [
    {
     "data": {
      "text/html": [
       "<div>\n",
       "<style scoped>\n",
       "    .dataframe tbody tr th:only-of-type {\n",
       "        vertical-align: middle;\n",
       "    }\n",
       "\n",
       "    .dataframe tbody tr th {\n",
       "        vertical-align: top;\n",
       "    }\n",
       "\n",
       "    .dataframe thead th {\n",
       "        text-align: right;\n",
       "    }\n",
       "</style>\n",
       "<table border=\"1\" class=\"dataframe\">\n",
       "  <thead>\n",
       "    <tr style=\"text-align: right;\">\n",
       "      <th></th>\n",
       "      <th>Survived</th>\n",
       "      <th>Pclass</th>\n",
       "      <th>Sex</th>\n",
       "      <th>Age</th>\n",
       "      <th>Fare</th>\n",
       "    </tr>\n",
       "  </thead>\n",
       "  <tbody>\n",
       "    <tr>\n",
       "      <th>0</th>\n",
       "      <td>0</td>\n",
       "      <td>3</td>\n",
       "      <td>male</td>\n",
       "      <td>22.0</td>\n",
       "      <td>7.2500</td>\n",
       "    </tr>\n",
       "    <tr>\n",
       "      <th>1</th>\n",
       "      <td>1</td>\n",
       "      <td>1</td>\n",
       "      <td>female</td>\n",
       "      <td>38.0</td>\n",
       "      <td>71.2833</td>\n",
       "    </tr>\n",
       "    <tr>\n",
       "      <th>2</th>\n",
       "      <td>1</td>\n",
       "      <td>3</td>\n",
       "      <td>female</td>\n",
       "      <td>26.0</td>\n",
       "      <td>7.9250</td>\n",
       "    </tr>\n",
       "    <tr>\n",
       "      <th>3</th>\n",
       "      <td>1</td>\n",
       "      <td>1</td>\n",
       "      <td>female</td>\n",
       "      <td>35.0</td>\n",
       "      <td>53.1000</td>\n",
       "    </tr>\n",
       "    <tr>\n",
       "      <th>4</th>\n",
       "      <td>0</td>\n",
       "      <td>3</td>\n",
       "      <td>male</td>\n",
       "      <td>35.0</td>\n",
       "      <td>8.0500</td>\n",
       "    </tr>\n",
       "  </tbody>\n",
       "</table>\n",
       "</div>"
      ],
      "text/plain": [
       "   Survived  Pclass     Sex   Age     Fare\n",
       "0         0       3    male  22.0   7.2500\n",
       "1         1       1  female  38.0  71.2833\n",
       "2         1       3  female  26.0   7.9250\n",
       "3         1       1  female  35.0  53.1000\n",
       "4         0       3    male  35.0   8.0500"
      ]
     },
     "execution_count": 318,
     "metadata": {},
     "output_type": "execute_result"
    }
   ],
   "source": [
    "df.head()"
   ]
  },
  {
   "cell_type": "code",
   "execution_count": 319,
   "id": "bigger-violin",
   "metadata": {},
   "outputs": [],
   "source": [
    "inputs= df.drop('Survived',axis = 'columns')\n",
    "target = df['Survived']"
   ]
  },
  {
   "cell_type": "code",
   "execution_count": 320,
   "id": "romance-production",
   "metadata": {},
   "outputs": [],
   "source": [
    "inputs.Sex = inputs.Sex.map({'male': 1, 'female': 2})"
   ]
  },
  {
   "cell_type": "code",
   "execution_count": 321,
   "id": "geographic-local",
   "metadata": {},
   "outputs": [
    {
     "data": {
      "text/plain": [
       "0    22.0\n",
       "1    38.0\n",
       "2    26.0\n",
       "3    35.0\n",
       "4    35.0\n",
       "5     NaN\n",
       "6    54.0\n",
       "7     2.0\n",
       "8    27.0\n",
       "9    14.0\n",
       "Name: Age, dtype: float64"
      ]
     },
     "execution_count": 321,
     "metadata": {},
     "output_type": "execute_result"
    }
   ],
   "source": [
    "inputs.Age[:10]\n"
   ]
  },
  {
   "cell_type": "code",
   "execution_count": 322,
   "id": "bored-creature",
   "metadata": {},
   "outputs": [],
   "source": [
    "inputs.Age = inputs.Age.fillna(inputs.Age.mean())"
   ]
  },
  {
   "cell_type": "code",
   "execution_count": 323,
   "id": "flying-measure",
   "metadata": {},
   "outputs": [
    {
     "data": {
      "text/html": [
       "<div>\n",
       "<style scoped>\n",
       "    .dataframe tbody tr th:only-of-type {\n",
       "        vertical-align: middle;\n",
       "    }\n",
       "\n",
       "    .dataframe tbody tr th {\n",
       "        vertical-align: top;\n",
       "    }\n",
       "\n",
       "    .dataframe thead th {\n",
       "        text-align: right;\n",
       "    }\n",
       "</style>\n",
       "<table border=\"1\" class=\"dataframe\">\n",
       "  <thead>\n",
       "    <tr style=\"text-align: right;\">\n",
       "      <th></th>\n",
       "      <th>Pclass</th>\n",
       "      <th>Sex</th>\n",
       "      <th>Age</th>\n",
       "      <th>Fare</th>\n",
       "    </tr>\n",
       "  </thead>\n",
       "  <tbody>\n",
       "    <tr>\n",
       "      <th>0</th>\n",
       "      <td>3</td>\n",
       "      <td>1</td>\n",
       "      <td>22.0</td>\n",
       "      <td>7.2500</td>\n",
       "    </tr>\n",
       "    <tr>\n",
       "      <th>1</th>\n",
       "      <td>1</td>\n",
       "      <td>2</td>\n",
       "      <td>38.0</td>\n",
       "      <td>71.2833</td>\n",
       "    </tr>\n",
       "    <tr>\n",
       "      <th>2</th>\n",
       "      <td>3</td>\n",
       "      <td>2</td>\n",
       "      <td>26.0</td>\n",
       "      <td>7.9250</td>\n",
       "    </tr>\n",
       "    <tr>\n",
       "      <th>3</th>\n",
       "      <td>1</td>\n",
       "      <td>2</td>\n",
       "      <td>35.0</td>\n",
       "      <td>53.1000</td>\n",
       "    </tr>\n",
       "    <tr>\n",
       "      <th>4</th>\n",
       "      <td>3</td>\n",
       "      <td>1</td>\n",
       "      <td>35.0</td>\n",
       "      <td>8.0500</td>\n",
       "    </tr>\n",
       "  </tbody>\n",
       "</table>\n",
       "</div>"
      ],
      "text/plain": [
       "   Pclass  Sex   Age     Fare\n",
       "0       3    1  22.0   7.2500\n",
       "1       1    2  38.0  71.2833\n",
       "2       3    2  26.0   7.9250\n",
       "3       1    2  35.0  53.1000\n",
       "4       3    1  35.0   8.0500"
      ]
     },
     "execution_count": 323,
     "metadata": {},
     "output_type": "execute_result"
    }
   ],
   "source": [
    "inputs.head()"
   ]
  },
  {
   "cell_type": "code",
   "execution_count": 324,
   "id": "metric-composite",
   "metadata": {
    "scrolled": true
   },
   "outputs": [
    {
     "name": "stdout",
     "output_type": "stream",
     "text": [
      "Requirement already satisfied: scikit-learn in /home/inaya/.local/lib/python3.9/site-packages (0.24.2)\n",
      "Requirement already satisfied: threadpoolctl>=2.0.0 in /home/inaya/.local/lib/python3.9/site-packages (from scikit-learn) (2.2.0)\n",
      "Requirement already satisfied: numpy>=1.13.3 in /home/inaya/.local/lib/python3.9/site-packages (from scikit-learn) (1.21.2)\n",
      "Requirement already satisfied: joblib>=0.11 in /home/inaya/.local/lib/python3.9/site-packages (from scikit-learn) (1.0.1)\n",
      "Requirement already satisfied: scipy>=0.19.1 in /home/inaya/.local/lib/python3.9/site-packages (from scikit-learn) (1.7.1)\n",
      "Note: you may need to restart the kernel to use updated packages.\n"
     ]
    }
   ],
   "source": [
    "pip install scikit-learn"
   ]
  },
  {
   "cell_type": "code",
   "execution_count": 325,
   "id": "fitting-egypt",
   "metadata": {},
   "outputs": [],
   "source": [
    "#from sklearn.preprocessing import LabelEncoder"
   ]
  },
  {
   "cell_type": "code",
   "execution_count": 326,
   "id": "requested-progressive",
   "metadata": {},
   "outputs": [],
   "source": [
    "#le_Pclass = LabelEncoder()\n",
    "#le_Sex    = LabelEncoder()\n",
    "#le_Age = LabelEncoder()\n",
    "#le_Fare = LabelEncoder()"
   ]
  },
  {
   "cell_type": "code",
   "execution_count": 327,
   "id": "about-roommate",
   "metadata": {},
   "outputs": [],
   "source": [
    "#inputs['Pclass_n'] = le_Pclass.fit_transform(inputs['Pclass'])\n",
    "#inputs['Sex_n'] = le_Sex.fit_transform(inputs['Sex'])\n",
    "#inputs['Age_n'] = le_Age.fit_transform(inputs['Age'])\n",
    "#inputs['Fare_n'] = le_Fare.fit_transform(inputs['Fare'])\n",
    "#inputs.head()"
   ]
  },
  {
   "cell_type": "code",
   "execution_count": 328,
   "id": "physical-repair",
   "metadata": {},
   "outputs": [],
   "source": [
    "#inputs_n= inputs.drop(['Pclass', 'Sex', 'Age', 'Fare'], axis = 'columns')\n",
    "#inputs_n                 "
   ]
  },
  {
   "cell_type": "code",
   "execution_count": null,
   "id": "permanent-crime",
   "metadata": {},
   "outputs": [],
   "source": []
  },
  {
   "cell_type": "code",
   "execution_count": 329,
   "id": "damaged-elevation",
   "metadata": {},
   "outputs": [],
   "source": [
    "from sklearn.model_selection import train_test_split"
   ]
  },
  {
   "cell_type": "code",
   "execution_count": 330,
   "id": "active-bailey",
   "metadata": {},
   "outputs": [],
   "source": [
    "X_train, X_test, y_train, y_test = train_test_split(inputs,target, test_size=0.2)"
   ]
  },
  {
   "cell_type": "code",
   "execution_count": 331,
   "id": "composite-chemistry",
   "metadata": {
    "scrolled": true
   },
   "outputs": [
    {
     "data": {
      "text/plain": [
       "712"
      ]
     },
     "execution_count": 331,
     "metadata": {},
     "output_type": "execute_result"
    }
   ],
   "source": [
    "len(X_train)\n"
   ]
  },
  {
   "cell_type": "code",
   "execution_count": 332,
   "id": "infinite-tooth",
   "metadata": {},
   "outputs": [
    {
     "data": {
      "text/plain": [
       "179"
      ]
     },
     "execution_count": 332,
     "metadata": {},
     "output_type": "execute_result"
    }
   ],
   "source": [
    "len(X_test)"
   ]
  },
  {
   "cell_type": "code",
   "execution_count": 333,
   "id": "abroad-championship",
   "metadata": {},
   "outputs": [],
   "source": [
    "from sklearn import tree\n",
    "model = tree.DecisionTreeClassifier()\n"
   ]
  },
  {
   "cell_type": "code",
   "execution_count": 334,
   "id": "formed-separate",
   "metadata": {},
   "outputs": [
    {
     "data": {
      "text/plain": [
       "DecisionTreeClassifier()"
      ]
     },
     "execution_count": 334,
     "metadata": {},
     "output_type": "execute_result"
    }
   ],
   "source": [
    "model.fit(X_train, y_train)"
   ]
  },
  {
   "cell_type": "code",
   "execution_count": 335,
   "id": "extensive-matthew",
   "metadata": {},
   "outputs": [
    {
     "data": {
      "text/plain": [
       "0.8044692737430168"
      ]
     },
     "execution_count": 335,
     "metadata": {},
     "output_type": "execute_result"
    }
   ],
   "source": [
    "model.score(X_test,y_test)"
   ]
  },
  {
   "cell_type": "code",
   "execution_count": null,
   "id": "strange-sunday",
   "metadata": {},
   "outputs": [],
   "source": []
  },
  {
   "cell_type": "code",
   "execution_count": null,
   "id": "natural-subscriber",
   "metadata": {},
   "outputs": [],
   "source": []
  },
  {
   "cell_type": "code",
   "execution_count": null,
   "id": "arranged-floor",
   "metadata": {},
   "outputs": [],
   "source": []
  }
 ],
 "metadata": {
  "kernelspec": {
   "display_name": "Python 3",
   "language": "python",
   "name": "python3"
  },
  "language_info": {
   "codemirror_mode": {
    "name": "ipython",
    "version": 3
   },
   "file_extension": ".py",
   "mimetype": "text/x-python",
   "name": "python",
   "nbconvert_exporter": "python",
   "pygments_lexer": "ipython3",
   "version": "3.9.5"
  }
 },
 "nbformat": 4,
 "nbformat_minor": 5
}
